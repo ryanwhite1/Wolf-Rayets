{
 "cells": [
  {
   "cell_type": "code",
   "execution_count": 1,
   "id": "8e0193d2",
   "metadata": {},
   "outputs": [],
   "source": [
    "import numpy as np\n",
    "import jax_tqdm as jtqdm\n",
    "import jax.numpy as jnp\n",
    "from jax import jit, vmap, grad\n",
    "import jax.lax as lax\n",
    "import jax.scipy.stats as stats\n",
    "import blackjax\n",
    "import matplotlib.pyplot as plt\n",
    "import time\n",
    "import pickle\n",
    "import numpyro, jax\n",
    "import numpyro.distributions as dists\n",
    "from numpyro.infer.util import initialize_model\n",
    "from glob import glob\n",
    "from astropy.io import fits\n",
    "\n",
    "import WR_Geom_Model as gm\n",
    "import WR_binaries as wrb"
   ]
  },
  {
   "cell_type": "code",
   "execution_count": 6,
   "id": "ce24c39b",
   "metadata": {},
   "outputs": [],
   "source": [
    "def gaussian_prior(value, mu, sigma):\n",
    "    '''https://stackoverflow.com/questions/49810234/using-emcee-with-gaussian-priors'''\n",
    "    return np.log(1.0 / (np.sqrt(2 * np.pi) * sigma)) - 0.5 * (value - mu)**2 / sigma**2\n",
    "def flat_prior(value, a, b):\n",
    "    if a < value < b:\n",
    "        return 0.\n",
    "    return -np.inf"
   ]
  },
  {
   "cell_type": "code",
   "execution_count": 25,
   "id": "fee5f835",
   "metadata": {},
   "outputs": [],
   "source": [
    "system = wrb.apep.copy()\n",
    "\n",
    "### --- INFERENCE --- ###  \n",
    "# n = 256     # standard\n",
    "n = 600     # VISIR\n",
    "# n = 898     # JWST\n",
    "@jit\n",
    "def smooth_histogram2d(particles, weights, stardata):\n",
    "    im_size = n\n",
    "    \n",
    "    x = particles[0, :]\n",
    "    y = particles[1, :]\n",
    "    \n",
    "    xbound, ybound = jnp.max(jnp.abs(x)), jnp.max(jnp.abs(y))\n",
    "    bound = jnp.max(jnp.array([xbound, ybound])) * (1. + 2. / im_size)\n",
    "    \n",
    "    xedges, yedges = jnp.linspace(-bound, bound, im_size+1), jnp.linspace(-bound, bound, im_size+1)\n",
    "    return gm.smooth_histogram2d_base(particles, weights, stardata, xedges, yedges, im_size)\n",
    "@jit\n",
    "def smooth_histogram2d_w_bins(particles, weights, stardata, xbins, ybins):\n",
    "    im_size = n\n",
    "    return gm.smooth_histogram2d_base(particles, weights, stardata, xbins, ybins, im_size)\n",
    "\n",
    "\n",
    "pscale = 1000 * 23/512 # mas/pixel, (Yinuo's email said 45mas/px, but I think the FOV is 23x23 arcsec for a 512x512 image?)\n",
    "vlt_years = [2016, 2017, 2018, 2024]\n",
    "vlt_data = {}\n",
    "directory = \"Data\\\\VLT\"\n",
    "fnames = glob(directory + \"\\\\*.fits\")\n",
    "\n",
    "for i, fname in enumerate(fnames):\n",
    "    \n",
    "    data = fits.open(fname)[0].data\n",
    "    \n",
    "    length = data.shape[0]\n",
    "    \n",
    "    X = jnp.linspace(-1., 1., length) * pscale * length/2 / 1000\n",
    "    Y = X.copy()\n",
    "    \n",
    "    xs, ys = jnp.meshgrid(X, Y)\n",
    "    \n",
    "    data[280:320, 280:320] = 0.\n",
    "    data = jnp.array(data)\n",
    "    \n",
    "    # data = data - jnp.median(data)\n",
    "    data = data - jnp.percentile(data, 84)\n",
    "    data = data/jnp.max(data)\n",
    "    data = jnp.maximum(data, 0)\n",
    "    vlt_data[vlt_years[i]] = jnp.abs(data)**0.5\n",
    "\n",
    "xbins = X\n",
    "ybins = Y\n",
    "error = 0.02\n",
    "\n",
    "vlt_data_flat = {year:vlt_data[year].flatten() for year in vlt_years}"
   ]
  },
  {
   "cell_type": "code",
   "execution_count": 46,
   "id": "c6ceebbe",
   "metadata": {},
   "outputs": [],
   "source": [
    "priors = {\"eccentricity\":[system['eccentricity'], 0.05],\n",
    "         \"open_angle\":[system['open_angle'] - 20, system['open_angle'] + 20]}"
   ]
  },
  {
   "cell_type": "code",
   "execution_count": 47,
   "id": "fc25bab1",
   "metadata": {},
   "outputs": [],
   "source": [
    "def lnprior(theta):\n",
    "    eccentricity, = theta\n",
    "#     #flat priors on b, c\n",
    "#     if not 1.0 < b < 2.0 and 1.0 < c < 2.0:\n",
    "#         return -np.inf\n",
    "    #gaussian prior on eccentricity\n",
    "    eccen_prior = gaussian_prior(eccentricity, priors['eccentricity'][0], priors['eccentricity'][1])\n",
    "    OA_prior = uniform_prior(open_angle, priors['open_angle'][0], priors['open_angle'][1])\n",
    "    \n",
    "    return eccen_prior + OA_prior"
   ]
  },
  {
   "cell_type": "code",
   "execution_count": 48,
   "id": "33eac579",
   "metadata": {},
   "outputs": [],
   "source": [
    "def log_prob(theta):\n",
    "    prior = lnprior(theta)\n",
    "    if not np.isfinite(prior):\n",
    "        return -np.inf\n",
    "    \n",
    "    eccentricity, open_angle = theta\n",
    "    params = system.copy()\n",
    "    params['eccentricity'] = eccentricity\n",
    "    params['open_angle'] = open_angle\n",
    "    \n",
    "    chi_sq = 0\n",
    "        \n",
    "    for year in vlt_years:\n",
    "        year_params = params.copy()\n",
    "        year_params['phase'] -= (2024 - year) / params['period']\n",
    "        samp_particles, samp_weights = gm.dust_plume(year_params)\n",
    "        _, _, samp_H = smooth_histogram2d_w_bins(samp_particles, samp_weights, year_params, xbins, ybins)\n",
    "        # samp_H = gm.add_stars(xbins, ybins, samp_H, year_params)\n",
    "        samp_H.at[280:320, 280:320].set(0.)\n",
    "        samp_H = samp_H.flatten()\n",
    "        # samp_H = jnp.nan_to_num(samp_H, 1e4)\n",
    "        \n",
    "        chi_sq += -0.5 * np.sum((samp_H - vlt_data_flat[year])**2 / error**2)\n",
    "    \n",
    "    return prior + chi_sq"
   ]
  },
  {
   "cell_type": "code",
   "execution_count": null,
   "id": "69faaaa0",
   "metadata": {},
   "outputs": [],
   "source": [
    "import emcee\n",
    "\n",
    "nwalkers = 3\n",
    "ndim = 2\n",
    "nsteps = 300\n",
    "\n",
    "initial = np.array([system['eccentricity'],\n",
    "                   system['open_angle']])\n",
    "\n",
    "\n",
    "pos = initial + 1e-4 * np.random.randn(nwalkers, ndim)\n",
    "\n",
    "\n",
    "sampler = emcee.EnsembleSampler(\n",
    "    nwalkers, ndim, log_prob\n",
    ")\n",
    "sampler.run_mcmc(pos, 300, progress=True);"
   ]
  },
  {
   "cell_type": "code",
   "execution_count": 43,
   "id": "18e0c29d",
   "metadata": {},
   "outputs": [
    {
     "data": {
      "image/png": "[encoded data removed]",
      "text/plain": [
       "<Figure size 1000x700 with 1 Axes>"
      ]
     },
     "metadata": {},
     "output_type": "display_data"
    }
   ],
   "source": [
    "fig, ax = plt.subplots(figsize=(10, 7))\n",
    "samples = sampler.get_chain()\n",
    "# samples.shape\n",
    "labels = [\"e\"]\n",
    "for i in range(nwalkers):\n",
    "    ax.plot(samples[:, i, 0])"
   ]
  },
  {
   "cell_type": "code",
   "execution_count": 45,
   "id": "48910e43",
   "metadata": {},
   "outputs": [
    {
     "ename": "AutocorrError",
     "evalue": "The chain is shorter than 50 times the integrated autocorrelation time for 1 parameter(s). Use this estimate with caution and run a longer chain!\nN/50 = 4;\ntau: [16.64286365]",
     "output_type": "error",
     "traceback": [
      "\u001b[1;31m---------------------------------------------------------------------------\u001b[0m",
      "\u001b[1;31mAutocorrError\u001b[0m                             Traceback (most recent call last)",
      "Cell \u001b[1;32mIn[45], line 1\u001b[0m\n\u001b[1;32m----> 1\u001b[0m tau \u001b[38;5;241m=\u001b[39m \u001b[43msampler\u001b[49m\u001b[38;5;241;43m.\u001b[39;49m\u001b[43mget_autocorr_time\u001b[49m\u001b[43m(\u001b[49m\u001b[43mdiscard\u001b[49m\u001b[38;5;241;43m=\u001b[39;49m\u001b[38;5;241;43m100\u001b[39;49m\u001b[43m)\u001b[49m\n\u001b[0;32m      2\u001b[0m \u001b[38;5;28mprint\u001b[39m(tau)\n",
      "File \u001b[1;32m~\\anaconda3\\lib\\site-packages\\emcee\\ensemble.py:605\u001b[0m, in \u001b[0;36mEnsembleSampler.get_autocorr_time\u001b[1;34m(self, **kwargs)\u001b[0m\n\u001b[0;32m    604\u001b[0m \u001b[38;5;28;01mdef\u001b[39;00m \u001b[38;5;21mget_autocorr_time\u001b[39m(\u001b[38;5;28mself\u001b[39m, \u001b[38;5;241m*\u001b[39m\u001b[38;5;241m*\u001b[39mkwargs):\n\u001b[1;32m--> 605\u001b[0m     \u001b[38;5;28;01mreturn\u001b[39;00m \u001b[38;5;28mself\u001b[39m\u001b[38;5;241m.\u001b[39mbackend\u001b[38;5;241m.\u001b[39mget_autocorr_time(\u001b[38;5;241m*\u001b[39m\u001b[38;5;241m*\u001b[39mkwargs)\n",
      "File \u001b[1;32m~\\anaconda3\\lib\\site-packages\\emcee\\backends\\backend.py:150\u001b[0m, in \u001b[0;36mBackend.get_autocorr_time\u001b[1;34m(self, discard, thin, **kwargs)\u001b[0m\n\u001b[0;32m    131\u001b[0m \u001b[38;5;124;03m\"\"\"Compute an estimate of the autocorrelation time for each parameter\u001b[39;00m\n\u001b[0;32m    132\u001b[0m \n\u001b[0;32m    133\u001b[0m \u001b[38;5;124;03mArgs:\u001b[39;00m\n\u001b[1;32m   (...)\u001b[0m\n\u001b[0;32m    147\u001b[0m \n\u001b[0;32m    148\u001b[0m \u001b[38;5;124;03m\"\"\"\u001b[39;00m\n\u001b[0;32m    149\u001b[0m x \u001b[38;5;241m=\u001b[39m \u001b[38;5;28mself\u001b[39m\u001b[38;5;241m.\u001b[39mget_chain(discard\u001b[38;5;241m=\u001b[39mdiscard, thin\u001b[38;5;241m=\u001b[39mthin)\n\u001b[1;32m--> 150\u001b[0m \u001b[38;5;28;01mreturn\u001b[39;00m thin \u001b[38;5;241m*\u001b[39m autocorr\u001b[38;5;241m.\u001b[39mintegrated_time(x, \u001b[38;5;241m*\u001b[39m\u001b[38;5;241m*\u001b[39mkwargs)\n",
      "File \u001b[1;32m~\\anaconda3\\lib\\site-packages\\emcee\\autocorr.py:112\u001b[0m, in \u001b[0;36mintegrated_time\u001b[1;34m(x, c, tol, quiet)\u001b[0m\n\u001b[0;32m    110\u001b[0m     msg \u001b[38;5;241m+\u001b[39m\u001b[38;5;241m=\u001b[39m \u001b[38;5;124m\"\u001b[39m\u001b[38;5;124mN/\u001b[39m\u001b[38;5;132;01m{0}\u001b[39;00m\u001b[38;5;124m = \u001b[39m\u001b[38;5;132;01m{1:.0f}\u001b[39;00m\u001b[38;5;124m;\u001b[39m\u001b[38;5;130;01m\\n\u001b[39;00m\u001b[38;5;124mtau: \u001b[39m\u001b[38;5;132;01m{2}\u001b[39;00m\u001b[38;5;124m\"\u001b[39m\u001b[38;5;241m.\u001b[39mformat(tol, n_t \u001b[38;5;241m/\u001b[39m tol, tau_est)\n\u001b[0;32m    111\u001b[0m     \u001b[38;5;28;01mif\u001b[39;00m \u001b[38;5;129;01mnot\u001b[39;00m quiet:\n\u001b[1;32m--> 112\u001b[0m         \u001b[38;5;28;01mraise\u001b[39;00m AutocorrError(tau_est, msg)\n\u001b[0;32m    113\u001b[0m     logger\u001b[38;5;241m.\u001b[39mwarning(msg)\n\u001b[0;32m    115\u001b[0m \u001b[38;5;28;01mreturn\u001b[39;00m tau_est\n",
      "\u001b[1;31mAutocorrError\u001b[0m: The chain is shorter than 50 times the integrated autocorrelation time for 1 parameter(s). Use this estimate with caution and run a longer chain!\nN/50 = 4;\ntau: [16.64286365]"
     ]
    }
   ],
   "source": [
    "tau = sampler.get_autocorr_time(discard=100)\n",
    "print(tau)"
   ]
  },
  {
   "cell_type": "code",
   "execution_count": 40,
   "id": "10f2a7fe",
   "metadata": {},
   "outputs": [
    {
     "data": {
      "image/png": "[encoded data removed]",
      "text/plain": [
       "<Figure size 340x340 with 1 Axes>"
      ]
     },
     "metadata": {},
     "output_type": "display_data"
    }
   ],
   "source": [
    "import corner\n",
    "\n",
    "flat_samples = sampler.get_chain(discard=80, flat=True)\n",
    "\n",
    "fig = corner.corner(\n",
    "    flat_samples, labels=labels\n",
    ");"
   ]
  },
  {
   "cell_type": "code",
   "execution_count": null,
   "id": "dfb55a70",
   "metadata": {},
   "outputs": [],
   "source": []
  }
 ],
 "metadata": {
  "kernelspec": {
   "display_name": "Python 3 (ipykernel)",
   "language": "python",
   "name": "python3"
  },
  "language_info": {
   "codemirror_mode": {
    "name": "ipython",
    "version": 3
   },
   "file_extension": ".py",
   "mimetype": "text/x-python",
   "name": "python",
   "nbconvert_exporter": "python",
   "pygments_lexer": "ipython3",
   "version": "3.9.18"
  }
 },
 "nbformat": 4,
 "nbformat_minor": 5
}
